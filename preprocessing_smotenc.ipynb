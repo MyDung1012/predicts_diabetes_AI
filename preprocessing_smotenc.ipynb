{
 "cells": [
  {
   "cell_type": "code",
   "execution_count": 1,
   "id": "19b5aa20",
   "metadata": {},
   "outputs": [],
   "source": [
    "import os\n",
    "import numpy as np\n",
    "import pandas as pd\n",
    "import random\n",
    "import tensorflow as tf\n",
    "\n",
    "from sklearn.model_selection import train_test_split\n",
    "from sklearn.preprocessing import MinMaxScaler, FunctionTransformer\n",
    "from sklearn.decomposition import PCA\n",
    "from sklearn.metrics import (\n",
    "    classification_report, precision_score, recall_score, f1_score, roc_auc_score\n",
    ")\n",
    "\n",
    "from tensorflow.keras.models import Sequential\n",
    "from tensorflow.keras.layers import Dense, Dropout, LSTM, Input, BatchNormalization\n",
    "from tensorflow.keras.callbacks import EarlyStopping, ReduceLROnPlateau\n",
    "from tensorflow.keras.optimizers import Adam\n",
    "\n",
    "from imblearn.over_sampling import SMOTENC"
   ]
  },
  {
   "cell_type": "code",
   "execution_count": 2,
   "id": "11ad942b",
   "metadata": {},
   "outputs": [],
   "source": [
    "seed_value = 50\n",
    "np.random.seed(seed_value)\n",
    "random.seed(seed_value)\n",
    "tf.random.set_seed(seed_value)\n"
   ]
  },
  {
   "cell_type": "code",
   "execution_count": 3,
   "id": "50cf78bc",
   "metadata": {},
   "outputs": [],
   "source": [
    "data = pd.read_csv('diabetes_prediction_dataset.csv')\n",
    "data.dropna(inplace=True)\n",
    "data['gender'] = data['gender'].map({'Male': 1, 'Female': 0})\n",
    "data = pd.get_dummies(data, columns=['smoking_history'], drop_first=True)\n",
    "data.fillna(0, inplace=True)"
   ]
  },
  {
   "cell_type": "code",
   "execution_count": 5,
   "id": "5aa976d8",
   "metadata": {},
   "outputs": [],
   "source": [
    "scaler = None\n",
    "pca = None\n",
    "def data_preprocessing(X, y, fit):\n",
    "    # Log1p\n",
    "    log_transformer = FunctionTransformer(np.log1p, validate=True)\n",
    "    X = log_transformer.transform(X)\n",
    "    X = pd.DataFrame(X)\n",
    "    X.fillna(0, inplace=True)\n",
    "\n",
    "    # Scale\n",
    "    global scaler\n",
    "    if fit:\n",
    "        scaler = MinMaxScaler()\n",
    "        X = scaler.fit_transform(X)\n",
    "    else:\n",
    "        X = scaler.transform(X)\n",
    "\n",
    "    # PCA 99%\n",
    "    global pca\n",
    "    if fit:\n",
    "        pca = PCA(n_components=0.99)\n",
    "        X = pca.fit_transform(X)\n",
    "        print(f\"Số đặc trưng ban đầu: {X.shape[1]}\")\n",
    "        print(f\"Số đặc trưng sau PCA (giữ 99% variance): {pca.n_components_}\")\n",
    "        print(f\"Tỉ lệ variance giữ lại: {sum(pca.explained_variance_ratio_):.4f}\")\n",
    "    else:\n",
    "        X = pca.transform(X)\n",
    "\n",
    "    return X, y"
   ]
  },
  {
   "cell_type": "code",
   "execution_count": 6,
   "id": "e8fc7c6c",
   "metadata": {},
   "outputs": [
    {
     "name": "stdout",
     "output_type": "stream",
     "text": [
      "Số đặc trưng ban đầu: 11\n",
      "Số đặc trưng sau PCA (giữ 99% variance): 11\n",
      "Tỉ lệ variance giữ lại: 0.9924\n"
     ]
    },
    {
     "name": "stderr",
     "output_type": "stream",
     "text": [
      "c:\\Users\\PC\\AppData\\Local\\Programs\\Python\\Python312\\Lib\\site-packages\\sklearn\\base.py:486: UserWarning: X has feature names, but FunctionTransformer was fitted without feature names\n",
      "  warnings.warn(\n"
     ]
    }
   ],
   "source": [
    "X = data.drop(['diabetes'], axis=1)\n",
    "y = data['diabetes']\n",
    "X_processed, y_processed = data_preprocessing(X, y, fit=True)"
   ]
  }
 ],
 "metadata": {
  "kernelspec": {
   "display_name": "Python 3",
   "language": "python",
   "name": "python3"
  },
  "language_info": {
   "codemirror_mode": {
    "name": "ipython",
    "version": 3
   },
   "file_extension": ".py",
   "mimetype": "text/x-python",
   "name": "python",
   "nbconvert_exporter": "python",
   "pygments_lexer": "ipython3",
   "version": "3.12.5"
  }
 },
 "nbformat": 4,
 "nbformat_minor": 5
}
